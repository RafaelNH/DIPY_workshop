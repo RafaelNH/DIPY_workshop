{
 "cells": [
  {
   "cell_type": "markdown",
   "metadata": {},
   "source": [
    "\n",
    "# Reconstruction of the diffusion signal with Correlation Tensor MRI (CTI)\n",
    "\n",
    "Correlation Tensor MRI (CTI) is a method that uses double diffusion\n",
    "encoding data to resolve sources of kurtosis. As the Q-space\n",
    "Trajectory Imaging method\n",
    "(see `sphx_glr_examples_built_reconstruction_reconst_qti.py`)\n",
    "[NetoHe2020], CTI aims to resolve different sources of non-Gaussian diffusion.\n",
    "However, in addition to the kurtosis sources associated with\n",
    "diffusion variance across compartments (``K_aniso`` and ``K_iso``, which\n",
    "are related to microscopic anisotropy and the variance of the mean\n",
    "diffusivities of compartments, respectively), CTI also measures ``K_micro``.\n",
    "This quantifies non-Gaussian diffusion effects that deviate from the multiple\n",
    "Gaussian component tissue representation, such as restricted diffusion,\n",
    "exchange, and structural disorder in compartments like cross-sectional\n",
    "variance [NovelloL2022] [AlvesR2022].\n",
    "\n",
    "As the long mixing time regime, the CorrelationTensorModel expresses the diffusion-weighted signal as:\n",
    "\n",
    "$$ \\log E_{\\Delta}(q_1, q_2) = \\left(q_{1i}q_{1j} + q_{2i}q_{2j}\\right) \\Delta D_{ij}  +\\frac{1}{6} \\left( q_{1i}q_{1j}q_{1k}q_{1l} + q_{2i}q_{2j}q_{2k}q_{2l} \\right) \\Delta^2 D^2 W_{ijkl} +  q_{1i}q_{1j}q_{2k}q_{2l}\\Delta^2C_{ijkl} + O(q^6) $$\n",
    "\n",
    "where: $\\Delta D_{ij}$ is the total diffusion\n",
    "tensor (DT), $W_{ijkl}$ is the total kurtosis tensor\n",
    "(KT), $D$ is the mean diffusivity, and $C_{ijkl}$ is the covariance tensor.\n",
    "\n",
    "In the following example we show how to fit the correlation tensor model on a\n",
    "real life dataset and how to estimate correlation tensor based statistics.\n",
    "\n",
    "First, we'll import all relevant modules."
   ]
  },
  {
   "cell_type": "code",
   "execution_count": 1,
   "metadata": {},
   "outputs": [],
   "source": [
    "import matplotlib.pyplot as plt\n",
    "\n",
    "import dipy.reconst.cti as cti\n",
    "from dipy.io import read_bvals_bvecs\n",
    "from dipy.core.gradients import gradient_table\n",
    "from dipy.io.image import load_nifti\n",
    "from dipy.data import get_fnames"
   ]
  },
  {
   "cell_type": "markdown",
   "metadata": {},
   "source": [
    "For CTI analysis, data must be acquired using double diffusion encoding,\n",
    "taking into account different pairs of b-values and gradient directions\n",
    "between the two diffusion epochs, as discussed by Henriques et al. in Magn\n",
    "Reson Med 2021 [NetoHe2021]._\n",
    "To run CTI we need to have separate b-value and b-vector files for each DDE\n",
    "diffusion epoch. In this tutorial, a sample DDE dataset and respective\n",
    "b-value and b-vector files for the two epochs are fetched. If you want to\n",
    "process your own DDE data compatible with CTI, you will have to change the\n",
    "below lines of code to add the paths of your data.\n",
    "The users should also ensure that the data is formatted correctly for the\n",
    "CTI analysis they are performing.\n",
    "\n"
   ]
  },
  {
   "cell_type": "code",
   "execution_count": 2,
   "metadata": {},
   "outputs": [
    {
     "data": {
      "application/vnd.jupyter.widget-view+json": {
       "model_id": "996d6209cf274f34ab96693f6247190f",
       "version_major": 2,
       "version_minor": 0
      },
      "text/plain": [
       "HBox(children=(HTML(value=''), FloatProgress(value=0.0, max=9317.0), HTML(value='')))"
      ]
     },
     "metadata": {},
     "output_type": "display_data"
    },
    {
     "name": "stdout",
     "output_type": "stream",
     "text": [
      "\n"
     ]
    },
    {
     "data": {
      "application/vnd.jupyter.widget-view+json": {
       "model_id": "3c67f494a5a348e0871868f033dec318",
       "version_major": 2,
       "version_minor": 0
      },
      "text/plain": [
       "HBox(children=(HTML(value=''), FloatProgress(value=0.0, max=1.0), HTML(value='')))"
      ]
     },
     "metadata": {},
     "output_type": "display_data"
    },
    {
     "name": "stdout",
     "output_type": "stream",
     "text": [
      "\n"
     ]
    },
    {
     "data": {
      "application/vnd.jupyter.widget-view+json": {
       "model_id": "14a72c11c94e44cda5c711f6853232fb",
       "version_major": 2,
       "version_minor": 0
      },
      "text/plain": [
       "HBox(children=(HTML(value=''), FloatProgress(value=0.0, max=3.0), HTML(value='')))"
      ]
     },
     "metadata": {},
     "output_type": "display_data"
    },
    {
     "name": "stdout",
     "output_type": "stream",
     "text": [
      "\n"
     ]
    },
    {
     "data": {
      "application/vnd.jupyter.widget-view+json": {
       "model_id": "26954c65b54f4568946359a53dc4cf53",
       "version_major": 2,
       "version_minor": 0
      },
      "text/plain": [
       "HBox(children=(HTML(value=''), FloatProgress(value=0.0, max=1.0), HTML(value='')))"
      ]
     },
     "metadata": {},
     "output_type": "display_data"
    },
    {
     "name": "stdout",
     "output_type": "stream",
     "text": [
      "\n"
     ]
    },
    {
     "data": {
      "application/vnd.jupyter.widget-view+json": {
       "model_id": "3a4a61c9c4234aa0a2c8c7504cac63dc",
       "version_major": 2,
       "version_minor": 0
      },
      "text/plain": [
       "HBox(children=(HTML(value=''), FloatProgress(value=0.0, max=3.0), HTML(value='')))"
      ]
     },
     "metadata": {},
     "output_type": "display_data"
    },
    {
     "name": "stdout",
     "output_type": "stream",
     "text": [
      "\n"
     ]
    },
    {
     "data": {
      "application/vnd.jupyter.widget-view+json": {
       "model_id": "b45cc112fef244e4a8afe2dfe571c069",
       "version_major": 2,
       "version_minor": 0
      },
      "text/plain": [
       "HBox(children=(HTML(value=''), FloatProgress(value=0.0, max=15.0), HTML(value='')))"
      ]
     },
     "metadata": {},
     "output_type": "display_data"
    },
    {
     "name": "stdout",
     "output_type": "stream",
     "text": [
      "\n"
     ]
    }
   ],
   "source": [
    "fdata, fbvals1, fbvecs1, fbvals2, fbvecs2, fmask = get_fnames('cti_rat1')\n",
    "data, affine = load_nifti(fdata)\n",
    "bvals1, bvecs1 = read_bvals_bvecs(fbvals1, fbvecs1)\n",
    "bvals2, bvecs2 = read_bvals_bvecs(fbvals2, fbvecs2)"
   ]
  },
  {
   "cell_type": "markdown",
   "metadata": {},
   "source": [
    "In this example, the function load_nifti is used to load the CTI data saved\n",
    "in filefdata and returns the data as a nibabel Nifti1Image object along with\n",
    "the affine transformation. The b-values and b-vectors for two different\n",
    "gradient tables are loaded from ``bvals1.bval`` and ``bvec1.bvec``, and\n",
    "``bvals2.bval`` and ``bvec2.bvec``, respectively, using the\n",
    "``read_bvals_bvecs`` function. For CTI reconstruction in DIPY, we need to\n",
    "define the b-values and b-vectors for each diffusion epoch in separate\n",
    "gradient tables, as done in the above line of code.\n",
    "\n"
   ]
  },
  {
   "cell_type": "code",
   "execution_count": 3,
   "metadata": {},
   "outputs": [],
   "source": [
    "gtab1 = gradient_table(bvals1, bvecs1)\n",
    "gtab2 = gradient_table(bvals2, bvecs2)"
   ]
  },
  {
   "cell_type": "markdown",
   "metadata": {},
   "source": [
    "Before fitting the data, we perform some data pre-processing. We first\n",
    "compute a brain mask to avoid unnecessary calculations on the background\n",
    "of the image.\n",
    "\n"
   ]
  },
  {
   "cell_type": "code",
   "execution_count": 4,
   "metadata": {},
   "outputs": [],
   "source": [
    "mask, mask_affine = load_nifti(fmask)"
   ]
  },
  {
   "cell_type": "markdown",
   "metadata": {},
   "source": [
    "Now that we've loaded the data and generated the two gradient tables we can\n",
    "go forward with CTI fitting. For this, the CTI model is first defined for\n",
    "GradientTable objects gtab1 and gtab2 by instantiating the\n",
    "CorrelationTensorModel object in the following way:\n",
    "\n"
   ]
  },
  {
   "cell_type": "code",
   "execution_count": 5,
   "metadata": {},
   "outputs": [],
   "source": [
    "ctimodel = cti.CorrelationTensorModel(gtab1, gtab2)"
   ]
  },
  {
   "cell_type": "markdown",
   "metadata": {},
   "source": [
    "To fit the data using the defined model object, we call the fit function of\n",
    "this object.\n",
    "\n"
   ]
  },
  {
   "cell_type": "code",
   "execution_count": 6,
   "metadata": {},
   "outputs": [
    {
     "name": "stderr",
     "output_type": "stream",
     "text": [
      "100%|████████████████████████████████████████████████████████████████████████████| 7516/7516.0 [03:13<00:00, 38.77it/s]\n"
     ]
    }
   ],
   "source": [
    "ctifit = ctimodel.fit(data, mask=mask)"
   ]
  },
  {
   "cell_type": "markdown",
   "metadata": {},
   "source": [
    "The fit method for the CTI model produces a CorrelationTensorFit object,\n",
    "which contains the attributes of both the DKI and DTI models. Given that CTI\n",
    "is a built upon DKI, which itself extends the DTI model, the\n",
    "CorrelationTensorFit instance captures a comprehensive set of parameters and\n",
    "attributes from these underlying models.\n",
    "\n",
    "For instance, the CTI model inherently estimates all DTI and DKI statistics,\n",
    "such as mean, axial, and radial diffusivities (MD, AD, RD) as well as the\n",
    "mean, axial, and radial kurtosis (MK, AK, RK).\n",
    "To better illustrate the extraction of main DTI/DKI parameters using the CTI\n",
    "model, consider the following lines of code:\n",
    "\n"
   ]
  },
  {
   "cell_type": "code",
   "execution_count": null,
   "metadata": {},
   "outputs": [],
   "source": [
    "AD = ctifit.ad\n",
    "MD = ctifit.md\n",
    "RD = ctifit.rd\n",
    "MK = ctifit.mk()\n",
    "AK = ctifit.ak()\n",
    "RK = ctifit.rk()"
   ]
  },
  {
   "cell_type": "markdown",
   "metadata": {},
   "source": [
    "However, in addition to these metrics, CTI also provides unique sources of\n",
    "information, not available in DTI and DKI. Below we draw a feature map of the\n",
    "3 different sources of kurtosis which can exclusively be calculated from the\n",
    "CTI model.\n",
    "\n"
   ]
  },
  {
   "cell_type": "code",
   "execution_count": 7,
   "metadata": {},
   "outputs": [
    {
     "data": {
      "image/png": "[encoded data removed]",
      "text/plain": [
       "<Figure size 1500x500 with 3 Axes>"
      ]
     },
     "metadata": {},
     "output_type": "display_data"
    }
   ],
   "source": [
    "kiso_map = ctifit.K_iso\n",
    "kaniso_map = ctifit.K_aniso\n",
    "kmicro_map = ctifit.K_micro\n",
    "\n",
    "slice_idx = 0\n",
    "fig, axarr = plt.subplots(1, 3, figsize=(15, 5))\n",
    "\n",
    "axarr[0].imshow(kiso_map[:, :, slice_idx], cmap='gray',\n",
    "                origin='lower', vmin=0, vmax=1)\n",
    "axarr[0].set_title('Kiso Map')\n",
    "\n",
    "axarr[1].imshow(kaniso_map[:, :, slice_idx], cmap='gray',\n",
    "                origin='lower', vmin=0, vmax=1)\n",
    "axarr[1].set_title('Kaniso Map')\n",
    "\n",
    "axarr[2].imshow(kmicro_map[:, :, slice_idx], cmap='gray',\n",
    "                origin='lower', vmin=0, vmax=1)\n",
    "axarr[2].set_title('Kmicro Map')\n",
    "\n",
    "plt.tight_layout()\n",
    "plt.show()"
   ]
  },
  {
   "cell_type": "markdown",
   "metadata": {},
   "source": [
    "## References\n",
    "[NetoHe2020] Henriques, R.N., Jespersen, S.N., Shemesh, N., 2020.\n",
    "    Correlation tensor magnetic resonance imaging. Neuroimage 211.\n",
    "    doi: 10.1016/j.neuroimage.2020.116605\n",
    "    \n",
    "[NovelloL2022] Novello, L., Henriques, R.N., Ianus, A., Feiweier, T.,\n",
    "    Shemesh, N., Jovicich, J. 2022.\n",
    "    In vivo Correlation Tensor MRI reveals microscopic kurtosis in the human\n",
    "    brain on a clinical 3T scanner. Neuroimage 254: 119137\n",
    "    doi: 10.1016/j.neuroimage.2022.119137\n",
    "    \n",
    "[AlvesR2022] Alves, R., Henriques, R.N., Kerkelä, L., Chavarrías C.,\n",
    "Jespersen, S.N., Shemesh, N.\n",
    "    2022. Correlation Tensor MRI deciphers underlying kurtosis sources in\n",
    "    stroke, Neuroimage 247: 118833. doi: 10.1016/j.neuroimage.2021.118833\n",
    "    \n",
    "[NetHe2021] Henriques, R.N., Jespersen, S.N., Shemesh, N., 2021.\n",
    "Evidence for microscopic kurtosis in neural tissue revealed by correlation\n",
    "tensor MRI. Magn. Reson. Med. 1-20. doi: 10.1002/mrm.28938"
   ]
  }
 ],
 "metadata": {
  "kernelspec": {
   "display_name": "Python 3 (ipykernel)",
   "language": "python",
   "name": "python3"
  },
  "language_info": {
   "codemirror_mode": {
    "name": "ipython",
    "version": 3
   },
   "file_extension": ".py",
   "mimetype": "text/x-python",
   "name": "python",
   "nbconvert_exporter": "python",
   "pygments_lexer": "ipython3",
   "version": "3.8.3"
  }
 },
 "nbformat": 4,
 "nbformat_minor": 1
}
