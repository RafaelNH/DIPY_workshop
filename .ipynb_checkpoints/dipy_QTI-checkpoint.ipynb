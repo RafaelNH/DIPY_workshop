{
 "cells": [
  {
   "cell_type": "markdown",
   "metadata": {},
   "source": [
    "# Reconstruct with Q-space Trajectory Imaging (QTI)\n",
    "\n",
    "Q-space trajectory imaging (QTI) by Westin et al. (2016) is a general framework for analyzing diffusion-weighted MRI data acquired with tensor-valued diffusion encoding. This tutorial briefly summarizes the theory and provides an example of how to estimate the diffusion and covariance tensors using DIPY."
   ]
  },
  {
   "cell_type": "markdown",
   "metadata": {},
   "source": [
    "# Theory"
   ]
  },
  {
   "cell_type": "markdown",
   "metadata": {},
   "source": [
    "In QTI, the tissue microstructure is represented by a diffusion tensor distribution (DTD). Here, DTD is denoted by $\\mathbf{D}$ and the voxel-level diffusion tensor from DTI by $\\langle\\mathbf{D}\\rangle$, where $\\langle \\ \\rangle$ denotes averaging over the DTD. The covariance of $\\mathbf{D}$ is given by a fourth-order covariance tensor $\\mathbb{C}$ defined\n",
    "as\n",
    "\n",
    "\n",
    "$$\\mathbb{C} = \\langle \\mathbf{D} \\otimes \\mathbf{D} \\rangle - \\langle\n",
    "   \\mathbf{D} \\rangle \\otimes \\langle \\mathbf{D} \\rangle$$\n",
    "\n",
    "where $\\otimes$ denotes a tensor outer product. $\\mathbb{C}$ has 21 unique\n",
    "elements and enables the calculation of several microstructural parameters.\n",
    "\n",
    "Using the cumulant expansion, the diffusion-weighted signal can be approximated\n",
    "as\n",
    "\n",
    "$$ S \\approx S_0 \\exp \\left(- \\mathbf{b} : \\langle \\mathbf{D} \\rangle +\n",
    "   \\frac{1}{2}(\\mathbf{b} \\otimes \\mathbf{b}) : \\mathbb{C} \\right) $$\n",
    "\n",
    "where $S_0$ is the signal without diffusion-weighting, $\\mathbf{b}$ is the\n",
    "b-tensor used in the acquisition, and $:$ denotes a tensor inner product.\n",
    "\n",
    "The model parameters $S_0$, $\\langle\\mathbf{D}\\rangle$, and $\\mathbb{C}$ can be\n",
    "estimated by solving the following equation:\n",
    "\n",
    "$$S = \\beta X$$\n",
    "\n",
    "where\n",
    "\n",
    "$$S = \\begin{pmatrix} \\ln S_1 \\\\ \\vdots \\\\ \\ln S_n \\end{pmatrix} $$\n",
    "\n",
    " $$  \\beta = \\begin{pmatrix} \\ln S_0 & \\langle \\mathbf{D} \\rangle & \\mathbb{C}\n",
    "   \\end{pmatrix}^\\text{T} $$\n",
    "\n",
    "$$\n",
    "   X =\n",
    "   \\begin{pmatrix}\n",
    "   1 & -\\mathbf{b}_1^\\text{T} & \\frac{1}{2} (\\mathbf{b}_1 \\otimes \\mathbf{b}_1)\n",
    "   \\text{T} \\\\\n",
    "   \\vdots & \\vdots & \\vdots \\\\\n",
    "   1 & -\\mathbf{b}_n^\\text{T} & \\frac{1}{2} (\\mathbf{b}_n \\otimes \\mathbf{b}_n)\n",
    "   ^\\text{T}\n",
    "   \\end{pmatrix} ,\n",
    "$$\n",
    "\n",
    "where $n$ is the number of acquisitions and $\\langle\\mathbf{D}\\rangle$,\n",
    "$\\mathbb{C}$, $\\mathbf{b}_i$, and $(\\mathbf{b}_i \\otimes \\mathbf{b}_i)$ are\n",
    "represented by column vectors using Voigt notation. Estimation of the model\n",
    "parameters requires that $\\text{rank}(\\mathbf{X}^\\text{T}\\mathbf{X}) = 28$.\n",
    "This can be achieved by combining acquisitions with b-tensors with different\n",
    "shapes, sizes, and orientations.\n",
    "\n",
    "For details, please see [1]_.\n",
    "\n",
    "# Usage example\n",
    "\n",
    "Let's start by importing the required modules and functions:"
   ]
  },
  {
   "cell_type": "code",
   "execution_count": 1,
   "metadata": {},
   "outputs": [],
   "source": [
    "from dipy.core.gradients import gradient_table\n",
    "from dipy.data import get_fnames\n",
    "from dipy.io.gradients import read_bvals_bvecs\n",
    "from dipy.io.image import load_nifti, load_nifti_data\n",
    "import matplotlib.pyplot as plt\n",
    "import nibabel as nib\n",
    "import numpy as np"
   ]
  },
  {
   "cell_type": "markdown",
   "metadata": {},
   "source": [
    "QTI can be fit to data using the module `dipy.reconst.qti`."
   ]
  },
  {
   "cell_type": "code",
   "execution_count": 2,
   "metadata": {},
   "outputs": [],
   "source": [
    "import dipy.reconst.qti as qti"
   ]
  },
  {
   "cell_type": "markdown",
   "metadata": {},
   "source": [
    "As QTI requires data with tensor-valued encoding, let’s load an example dataset acquired with q-space trajectory encoding (QTE):"
   ]
  },
  {
   "cell_type": "code",
   "execution_count": 3,
   "metadata": {},
   "outputs": [],
   "source": [
    "fdata, fbvals, fbvecs, fmask = get_fnames('qte_lte_pte')\n",
    "data, affine = load_nifti(fdata)\n",
    "mask, _ = load_nifti(fmask)\n",
    "bvals, bvecs = read_bvals_bvecs(fbvals, fbvecs)"
   ]
  },
  {
   "cell_type": "markdown",
   "metadata": {},
   "source": [
    "The dataset contains 122 volumes of which the first half were acquired with linear tensor encoding (LTE) and the second half with planar tensor encoding (PTE)."
   ]
  },
  {
   "cell_type": "code",
   "execution_count": 4,
   "metadata": {},
   "outputs": [],
   "source": [
    "btens = np.array(['LTE' for i in range(61)] + ['PTE' for i in range(61)])\n",
    "gtab = gradient_table(bvals, bvecs, btens=btens)"
   ]
  },
  {
   "cell_type": "markdown",
   "metadata": {},
   "source": [
    "To check that bmatrices are well calculated let's inspect the ranks of the b-tensors saved in the gradient table."
   ]
  },
  {
   "cell_type": "code",
   "execution_count": 5,
   "metadata": {},
   "outputs": [
    {
     "name": "stdout",
     "output_type": "stream",
     "text": [
      "2 volumes with b = 0\n",
      "60 volumes with LTE\n",
      "60 volumes with PTE\n"
     ]
    }
   ],
   "source": [
    "ranks = np.array([np.linalg.matrix_rank(b) for b in gtab.btens])\n",
    "for i, l in enumerate(['b = 0', 'LTE', 'PTE']):\n",
    "    print('%s volumes with %s' % (np.sum(ranks == i), l))"
   ]
  },
  {
   "cell_type": "code",
   "execution_count": 6,
   "metadata": {},
   "outputs": [
    {
     "name": "stdout",
     "output_type": "stream",
     "text": [
      "[0 1 1 1 1 1 1 1 1 1 1 1 1 1 1 1 1 1 1 1 1 1 1 1 1 1 1 1 1 1 1 1 1 1 1 1 1\n",
      " 1 1 1 1 1 1 1 1 1 1 1 1 1 1 1 1 1 1 1 1 1 1 1 1 0 2 2 2 2 2 2 2 2 2 2 2 2\n",
      " 2 2 2 2 2 2 2 2 2 2 2 2 2 2 2 2 2 2 2 2 2 2 2 2 2 2 2 2 2 2 2 2 2 2 2 2 2\n",
      " 2 2 2 2 2 2 2 2 2 2 2]\n"
     ]
    }
   ],
   "source": [
    "print(ranks)"
   ]
  },
  {
   "cell_type": "markdown",
   "metadata": {},
   "source": [
    "Now that we have data acquired with tensor-valued diffusion encoding and the corresponding gradient table containing the b-tensors, we can fit QTI to the data as follows:"
   ]
  },
  {
   "cell_type": "code",
   "execution_count": null,
   "metadata": {},
   "outputs": [],
   "source": [
    "qtimodel = qti.QtiModel(gtab)\n",
    "qtifit = qtimodel.fit(data, mask)"
   ]
  },
  {
   "cell_type": "markdown",
   "metadata": {},
   "source": [
    "QTI parameter maps can accessed as the attributes of qtifit. For instance, fractional anisotropy (FA) and microscopic fractional anisotropy (μFA) maps can be calculated as:"
   ]
  },
  {
   "cell_type": "code",
   "execution_count": null,
   "metadata": {},
   "outputs": [],
   "source": [
    "fa = qtifit.fa\n",
    "ufa = qtifit.ufa"
   ]
  },
  {
   "cell_type": "markdown",
   "metadata": {},
   "source": [
    "Finally, let’s reproduce Figure 9 from 1 to visualize more QTI parameter maps:"
   ]
  },
  {
   "cell_type": "code",
   "execution_count": null,
   "metadata": {},
   "outputs": [],
   "source": [
    "z = 36\n",
    "\n",
    "fig, ax = plt.subplots(1, 2, figsize=(6, 4))\n",
    "\n",
    "background = np.zeros(data.shape[0:2])  # Black background for figures\n",
    "for i in range(2):\n",
    "    ax[i].imshow(background, cmap='gray')\n",
    "    ax[i].set_xticks([])\n",
    "    ax[i].set_yticks([])\n",
    "\n",
    "\n",
    "ax[0].imshow(np.rot90(fa[:, :, z]), cmap='gray', vmin=0, vmax=1)\n",
    "ax[0].set_title('FA')\n",
    "\n",
    "ax[1].imshow(np.rot90(ufa[:, :, z]), cmap='gray', vmin=0, vmax=1)\n",
    "ax[1].set_title('uFA')\n",
    "\n",
    "\n",
    "fig.tight_layout()\n",
    "plt.show()"
   ]
  },
  {
   "cell_type": "markdown",
   "metadata": {},
   "source": [
    "Finally, let’s reproduce Figure 9 from 1 to visualize more QTI parameter maps:"
   ]
  },
  {
   "cell_type": "code",
   "execution_count": null,
   "metadata": {},
   "outputs": [],
   "source": [
    "z = 36\n",
    "\n",
    "fig, ax = plt.subplots(3, 4, figsize=(12, 9))\n",
    "\n",
    "background = np.zeros(data.shape[0:2])  # Black background for figures\n",
    "for i in range(3):\n",
    "    for j in range(4):\n",
    "        ax[i, j].imshow(background, cmap='gray')\n",
    "        ax[i, j].set_xticks([])\n",
    "        ax[i, j].set_yticks([])\n",
    "\n",
    "ax[0, 0].imshow(np.rot90(qtifit.md[:, :, z]), cmap='gray', vmin=0, vmax=3e-3)\n",
    "ax[0, 0].set_title('MD')\n",
    "ax[0, 1].imshow(np.rot90(qtifit.v_md[:, :, z]),\n",
    "                cmap='gray', vmin=0, vmax=.5e-6)\n",
    "ax[0, 1].set_title('V:math:`_{MD}`')\n",
    "ax[0, 2].imshow(np.rot90(qtifit.v_shear[:, :, z]), cmap='gray', vmin=0,\n",
    "                vmax=.5e-6)\n",
    "ax[0, 2].set_title('V:math:`_{shear}`')\n",
    "ax[0, 3].imshow(np.rot90(qtifit.v_iso[:, :, z]),\n",
    "                cmap='gray', vmin=0, vmax=1e-6)\n",
    "ax[0, 3].set_title('V:math:`_{iso}`')\n",
    "\n",
    "ax[1, 0].imshow(np.rot90(qtifit.c_md[:, :, z]), cmap='gray', vmin=0, vmax=.25)\n",
    "ax[1, 0].set_title('C:math:`_{MD}`')\n",
    "ax[1, 1].imshow(np.rot90(qtifit.c_mu[:, :, z]), cmap='gray', vmin=0, vmax=1)\n",
    "ax[1, 1].set_title('C:math:`_{μ}` = μFA:math:`^2`')\n",
    "ax[1, 2].imshow(np.rot90(qtifit.c_m[:, :, z]), cmap='gray', vmin=0, vmax=1)\n",
    "ax[1, 2].set_title('C:math:`_{M}` = FA:math:`^2`')\n",
    "ax[1, 3].imshow(np.rot90(qtifit.c_c[:, :, z]), cmap='gray', vmin=0, vmax=1)\n",
    "ax[1, 3].set_title('C:math:`_{c}`')\n",
    "\n",
    "ax[2, 0].imshow(np.rot90(qtifit.mk[:, :, z]), cmap='gray', vmin=0, vmax=1.5)\n",
    "ax[2, 0].set_title('MK')\n",
    "ax[2, 1].imshow(np.rot90(qtifit.k_bulk[:, :, z]),\n",
    "                cmap='gray', vmin=0, vmax=1.5)\n",
    "ax[2, 1].set_title('K:math:`_{bulk}`')\n",
    "ax[2, 2].imshow(np.rot90(qtifit.k_shear[:, :, z]), cmap='gray', vmin=0,\n",
    "                vmax=1.5)\n",
    "ax[2, 2].set_title('K:math:`_{shear}`')\n",
    "ax[2, 3].imshow(np.rot90(qtifit.k_mu[:, :, z]), cmap='gray', vmin=0, vmax=1.5)\n",
    "ax[2, 3].set_title('K:math:`_{μ}`')\n",
    "\n",
    "fig.tight_layout()\n",
    "plt.show()"
   ]
  },
  {
   "cell_type": "markdown",
   "metadata": {},
   "source": [
    "# References\n",
    "\n",
    "For more information about QTI, please read the article by Westin et al. (2016)\n",
    "\n",
    "Westin, Carl-Fredrik, et al. “Q-space trajectory imaging for multidimensional diffusion MRI of the human brain.” Neuroimage 135 (2016): 345-362. https://doi.org/10.1016/j.neuroimage.2016.02.039."
   ]
  },
  {
   "cell_type": "code",
   "execution_count": null,
   "metadata": {},
   "outputs": [],
   "source": []
  }
 ],
 "metadata": {
  "kernelspec": {
   "display_name": "Python 3 (ipykernel)",
   "language": "python",
   "name": "python3"
  },
  "language_info": {
   "codemirror_mode": {
    "name": "ipython",
    "version": 3
   },
   "file_extension": ".py",
   "mimetype": "text/x-python",
   "name": "python",
   "nbconvert_exporter": "python",
   "pygments_lexer": "ipython3",
   "version": "3.8.3"
  }
 },
 "nbformat": 4,
 "nbformat_minor": 4
}
